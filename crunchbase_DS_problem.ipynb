{
 "cells": [
  {
   "cell_type": "code",
   "execution_count": 72,
   "metadata": {
    "collapsed": true
   },
   "outputs": [],
   "source": [
    "import numpy as np\n",
    "import pandas as pd\n",
    "import seaborn as sb\n",
    "import scipy.stats as scp\n",
    "import matplotlib.pyplot as plt\n",
    "%matplotlib inline"
   ]
  },
  {
   "cell_type": "code",
   "execution_count": 94,
   "metadata": {},
   "outputs": [],
   "source": [
    "PATH = \"./crunchbase_filtered_data.csv\"                    # Crunchbase data filtered by A-named companies\n",
    "dataset = pd.read_csv(PATH)\n",
    "# dataset"
   ]
  },
  {
   "cell_type": "code",
   "execution_count": 207,
   "metadata": {},
   "outputs": [
    {
     "data": {
      "text/plain": [
       "count    4.830000e+02\n",
       "mean     9.084519e+06\n",
       "std      1.583734e+07\n",
       "min      5.000000e+03\n",
       "25%      1.100000e+06\n",
       "50%      3.000000e+06\n",
       "75%      1.000000e+07\n",
       "max      1.120000e+08\n",
       "Name: raised_amount_usd, dtype: float64"
      ]
     },
     "execution_count": 207,
     "metadata": {},
     "output_type": "execute_result"
    }
   ],
   "source": [
    "funding_df = dataset[dataset[\"raised_amount_usd\"] < 150000000][\"raised_amount_usd\"]    # Omitting outliers (less than 5% of impact on data body)\n",
    "funding_df.describe()"
   ]
  },
  {
   "cell_type": "code",
   "execution_count": 212,
   "metadata": {
    "collapsed": true
   },
   "outputs": [],
   "source": [
    "\"\"\" FUNCTION TO DERIVE MEAN FROM RANDOM DATA SUBSAMPLE (SIZE: n) \"\"\"\n",
    "def get_sample(dataset, n=50):\n",
    "    sample_dataset = np.empty((0, n))\n",
    "    \n",
    "    for _ in range(0, n):\n",
    "        # random_selection = (dataset.max() - dataset.min()) * np.random.random_sample() + dataset.min()\n",
    "        random_selection = np.random.choice(dataset, n, replace=True)\n",
    "        sample_dataset = np.append(sample_dataset, random_selection)\n",
    "        \n",
    "    # return np.random.choice(dataset, n, replace=True) / n    \n",
    "    return (np.sum(sample_dataset) / n)\n",
    "\n",
    "\"\"\" FUNCTION TO CREATE DISTRIBUTION (SIZE: s) OF MEANS FROM SAMPLE MEANS (SIZE: n) \"\"\"\n",
    "def create_sample_distribution(dataset, NUM_ITER=1000, n=30):\n",
    "    # NOTE: Modified to take third argument as subsample size for get_sample() method\n",
    "    distribution_of_sample_means = np.empty((0, NUM_ITER))\n",
    "    \n",
    "    for _ in range(0, NUM_ITER):\n",
    "        sample_mean = get_sample(dataset, n)\n",
    "        distribution_of_sample_means = np.append(distribution_of_sample_means, sample_mean)\n",
    "        \n",
    "    return distribution_of_sample_means"
   ]
  },
  {
   "cell_type": "code",
   "execution_count": 213,
   "metadata": {},
   "outputs": [],
   "source": [
    "# This isn't necessary to answer the question; only useful for visualization!\n",
    "funding_within_select_range_df = funding_df[(funding_df >= 25000000) & (funding_df <= 30000000)]    # Returns [$2.5M, $3.0M]\n",
    "# funding_within_select_range_df"
   ]
  },
  {
   "cell_type": "code",
   "execution_count": 214,
   "metadata": {},
   "outputs": [
    {
     "data": {
      "text/plain": [
       "(array([ 375.,   40.,   46.,    6.,    7.,    3.,    0.,    0.,    0.,    6.]),\n",
       " array([  5.00000000e+03,   1.12045000e+07,   2.24040000e+07,\n",
       "          3.36035000e+07,   4.48030000e+07,   5.60025000e+07,\n",
       "          6.72020000e+07,   7.84015000e+07,   8.96010000e+07,\n",
       "          1.00800500e+08,   1.12000000e+08]),\n",
       " <a list of 10 Patch objects>)"
      ]
     },
     "execution_count": 214,
     "metadata": {},
     "output_type": "execute_result"
    },
    {
     "data": {
      "image/png": "[encoded data removed]",
      "text/plain": [
       "<matplotlib.figure.Figure at 0x1a243964e0>"
      ]
     },
     "metadata": {},
     "output_type": "display_data"
    }
   ],
   "source": [
    "plt.hist(funding_df)"
   ]
  },
  {
   "cell_type": "code",
   "execution_count": 215,
   "metadata": {
    "scrolled": true
   },
   "outputs": [],
   "source": [
    "sample_distribution = create_sample_distribution(funding_df)\n",
    "# sample_distribution"
   ]
  },
  {
   "cell_type": "code",
   "execution_count": 216,
   "metadata": {},
   "outputs": [
    {
     "data": {
      "text/plain": [
       "(array([   3.,   10.,   53.,  134.,  249.,  246.,  193.,   72.,   34.,    6.]),\n",
       " array([  2.17311556e+08,   2.27953934e+08,   2.38596312e+08,\n",
       "          2.49238690e+08,   2.59881068e+08,   2.70523446e+08,\n",
       "          2.81165824e+08,   2.91808202e+08,   3.02450580e+08,\n",
       "          3.13092958e+08,   3.23735336e+08]),\n",
       " <a list of 10 Patch objects>)"
      ]
     },
     "execution_count": 216,
     "metadata": {},
     "output_type": "execute_result"
    },
    {
     "data": {
      "image/png": "[encoded data removed]",
      "text/plain": [
       "<matplotlib.figure.Figure at 0x1a2412c128>"
      ]
     },
     "metadata": {},
     "output_type": "display_data"
    }
   ],
   "source": [
    "plt.hist(sample_distribution)"
   ]
  },
  {
   "cell_type": "code",
   "execution_count": 217,
   "metadata": {},
   "outputs": [
    {
     "data": {
      "text/plain": [
       "-15.637358173735699"
      ]
     },
     "execution_count": 217,
     "metadata": {},
     "output_type": "execute_result"
    }
   ],
   "source": [
    "X1 = 25000000; X2 = 30000000\n",
    "\n",
    "mean = np.mean(sample_distribution)\n",
    "std = np.std(sample_distribution)\n",
    "\n",
    "Z1 = (X1 - mean) / std; Z2 = (X2 - mean) / std\n",
    "Z1\n",
    "# prob1 = scp.norm.cdf(Z1); prob2 = scp.norm.cdf(Z2)\n",
    "# prob2 - prob1"
   ]
  },
  {
   "cell_type": "code",
   "execution_count": null,
   "metadata": {
    "collapsed": true
   },
   "outputs": [],
   "source": []
  }
 ],
 "metadata": {
  "kernelspec": {
   "display_name": "Python 3",
   "language": "python",
   "name": "python3"
  },
  "language_info": {
   "codemirror_mode": {
    "name": "ipython",
    "version": 3
   },
   "file_extension": ".py",
   "mimetype": "text/x-python",
   "name": "python",
   "nbconvert_exporter": "python",
   "pygments_lexer": "ipython3",
   "version": "3.6.3"
  }
 },
 "nbformat": 4,
 "nbformat_minor": 2
}
